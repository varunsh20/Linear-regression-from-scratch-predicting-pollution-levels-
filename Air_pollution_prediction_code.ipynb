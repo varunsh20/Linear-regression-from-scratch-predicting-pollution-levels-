{
 "cells": [
  {
   "cell_type": "code",
   "execution_count": 61,
   "metadata": {},
   "outputs": [],
   "source": [
    "#Implementing linear regression.\n",
    "\n",
    "import numpy as np\n",
    "import pandas as pd\n",
    "from matplotlib import pyplot as plt\n",
    "\n",
    "X_train = pd.read_csv(\"Train.csv\")\n",
    "X_test = pd.read_csv(\"Test.csv\")\n",
    "\n",
    "X_data = X_train.values\n",
    "x = X_test.values\n",
    "\n",
    "X = X_data[:,:5]\n",
    "Y = X_data[:,5]\n",
    "Y = Y.reshape((-1,1))\n",
    "\n",
    "ones = np.ones((X.shape[0],1))\n",
    "X_ = np.hstack((X,ones))\n",
    "\n",
    "ones1 = np.ones((x.shape[0],1))\n",
    "x_ = np.hstack((x,ones1))\n",
    "\n",
    "\n",
    "\n",
    "#normalise the data.\n",
    "def normalize(X):\n",
    "    u=np.mean(X)\n",
    "    std=np.std(X)\n",
    "    X=(X-u)/std\n",
    "    df=pd.DataFrame(X)\n",
    "    return df\n",
    "\n",
    "\n",
    "def hypothesis(X,theta):\n",
    "    return np.dot(X,theta)\n",
    "\n",
    "\n",
    "def error(X,Y,theta):\n",
    "    e = 0.0\n",
    "    m = X.shape[0]\n",
    "    y_ = hypothesis(X,theta)\n",
    "    e = np.sum((y_-Y)**2)\n",
    "    return e/m\n",
    "\n",
    "\n",
    "def gradient(X,Y,theta):\n",
    "    m = X.shape[0]\n",
    "    y_ = hypothesis(X,theta)\n",
    "    grad = np.dot(X.T,(y_-Y))\n",
    "    return grad/m\n",
    "\n",
    "\n",
    "def grad_descent(X,Y,learning_rate=0.1,max_steps=300):\n",
    "    theta = np.zeros((X.shape[1],1))\n",
    "    error_list = []\n",
    "    for i in range(max_steps):\n",
    "        grad = gradient(X,Y,theta)\n",
    "        e = error(X,Y,theta)\n",
    "        error_list.append(e)\n",
    "        theta = theta-learning_rate*grad\n",
    "    return theta,error_list\n",
    "\n",
    "\n",
    "def r2score(y_,Y):\n",
    "    num = np.sum((Y-y_)**2)\n",
    "    den = np.sum((Y-Y.mean())**2)\n",
    "    score = 1-num/den\n",
    "    return score*100\n",
    "\n",
    "theta,error_list = grad_descent(X_,Y)\n",
    "\n",
    "\n",
    "\n",
    "\n"
   ]
  },
  {
   "cell_type": "code",
   "execution_count": 62,
   "metadata": {},
   "outputs": [
    {
     "name": "stdout",
     "output_type": "stream",
     "text": [
      "(1600, 1)\n",
      "96.60939669975616\n"
     ]
    }
   ],
   "source": [
    "#Calculating accuracy.\n",
    "\n",
    "y = hypothesis(X_,theta)\n",
    "score = r2score(y,Y)\n",
    "print(y.shape)\n",
    "print(score)"
   ]
  },
  {
   "cell_type": "code",
   "execution_count": 67,
   "metadata": {},
   "outputs": [
    {
     "name": "stdout",
     "output_type": "stream",
     "text": [
      "(400, 1)\n",
      "96.60939669975616\n"
     ]
    }
   ],
   "source": [
    "#Making predictions on test data.\n",
    "\n",
    "x = normalize(x)\n",
    "y_ = hypothesis(x_,theta)\n",
    "print(y_.shape)\n",
    "print(score)\n",
    "\n",
    "\n",
    "df = pd.DataFrame(data=y_,columns = [\"target\"])\n",
    "df.to_csv(\"Air Pollution Prediction.csv\",index_label = 'Id')\n",
    "\n",
    "\n"
   ]
  },
  {
   "cell_type": "code",
   "execution_count": null,
   "metadata": {},
   "outputs": [],
   "source": []
  }
 ],
 "metadata": {
  "kernelspec": {
   "display_name": "Python 3",
   "language": "python",
   "name": "python3"
  },
  "language_info": {
   "codemirror_mode": {
    "name": "ipython",
    "version": 3
   },
   "file_extension": ".py",
   "mimetype": "text/x-python",
   "name": "python",
   "nbconvert_exporter": "python",
   "pygments_lexer": "ipython3",
   "version": "3.8.1"
  }
 },
 "nbformat": 4,
 "nbformat_minor": 4
}
